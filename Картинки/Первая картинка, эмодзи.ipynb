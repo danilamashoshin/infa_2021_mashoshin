{
 "cells": [
  {
   "cell_type": "code",
   "execution_count": 1,
   "metadata": {},
   "outputs": [
    {
     "name": "stdout",
     "output_type": "stream",
     "text": [
      "pygame 2.0.1 (SDL 2.0.14, Python 3.8.3)\n",
      "Hello from the pygame community. https://www.pygame.org/contribute.html\n"
     ]
    }
   ],
   "source": [
    "import pygame\n",
    "\n"
   ]
  },
  {
   "cell_type": "code",
   "execution_count": 4,
   "metadata": {},
   "outputs": [],
   "source": [
    "import pygame\n",
    "from pygame.draw import *\n",
    "\n",
    "pygame.init()\n",
    "\n",
    "FPS = 30\n",
    "screen = pygame.display.set_mode((400, 400))\n",
    "\n",
    "x1 = 100; y1 = 100\n",
    "x2 = 300; y2 = 200\n",
    "N = 10\n",
    "color = (255, 255, 255)\n",
    "rect(screen, color, (x1, y1, x2 - x1, y2 - y1), 2)\n",
    "h = (x2 - x1) // (N + 1)\n",
    "x = x1 + h\n",
    "for i in range(N):\n",
    "    line(screen, color, (x, y1), (x, y2))\n",
    "    x += h\n",
    "\n",
    "pygame.display.update()\n",
    "clock = pygame.time.Clock()\n",
    "finished = False\n",
    "\n",
    "while not finished:\n",
    "    clock.tick(FPS)\n",
    "    for event in pygame.event.get():\n",
    "        if event.type == pygame.QUIT:\n",
    "            finished = True\n",
    "\n",
    "pygame.quit()"
   ]
  },
  {
   "cell_type": "code",
   "execution_count": 23,
   "metadata": {},
   "outputs": [],
   "source": [
    "import pygame\n",
    "from pygame.draw import *\n",
    "\n",
    "pygame.init()\n",
    "\n",
    "FPS = 30\n",
    "screen = pygame.display.set_mode((400, 400))\n",
    "\n",
    "rect(screen, (255, 0, 255), (100, 100, 200, 200))\n",
    "rect(screen, (0, 0, 255), (100, 100, 200, 200), 5)\n",
    "polygon(screen, (255, 255, 0), [(100,100), (200,50),\n",
    "                               (300,100), (100,100)])\n",
    "polygon(screen, (0, 0, 255), [(100,100), (200,50),\n",
    "                               (300,100), (100,100)], 5)\n",
    "circle(screen, (0, 255, 0), (200, 175), 50)\n",
    "circle(screen, (255, 255, 255), (200, 175), 50, 5)\n",
    "\n",
    "pygame.display.update()\n",
    "clock = pygame.time.Clock()\n",
    "finished = False\n",
    "\n",
    "while not finished:\n",
    "    clock.tick(FPS)\n",
    "    for event in pygame.event.get():\n",
    "        if event.type == pygame.QUIT:\n",
    "            finished = True\n",
    "\n",
    "pygame.quit()"
   ]
  },
  {
   "cell_type": "code",
   "execution_count": 20,
   "metadata": {},
   "outputs": [],
   "source": [
    "import pygame\n",
    "from pygame.draw import *\n",
    "\n",
    "pygame.init()\n",
    "\n",
    "FPS = 30\n",
    "screen = pygame.display.set_mode((1000, 1000))\n",
    "\n",
    "rect(screen, 'white', (0, 0, 1000, 1000))\n",
    "circle(screen, 'yellow', (500, 500), 300)\n",
    "circle(screen, 'black', (500, 500), 300,5)\n",
    "circle(screen, 'red', (400, 400), 50)\n",
    "circle(screen, 'red', (600, 400), 50)\n",
    "circle(screen, 'black', (600, 400), 50,5)\n",
    "circle(screen, 'black', (400, 400), 50,5)\n",
    "circle(screen, 'black', (600, 400), 20)\n",
    "circle(screen, 'black', (400, 400), 20)\n",
    "\n",
    "line(screen, 'black', [200,200], [450,350],30)\n",
    "line(screen, 'black', [800,200], [550,350],30)\n",
    "line(screen, 'black', [400,650], [600,650],80)\n",
    "\n",
    "\n",
    "pygame.display.update()\n",
    "clock = pygame.time.Clock()\n",
    "finished = False\n",
    "\n",
    "while not finished:\n",
    "    clock.tick(FPS)\n",
    "    for event in pygame.event.get():\n",
    "        if event.type == pygame.QUIT:\n",
    "            finished = True\n",
    "\n",
    "pygame.quit()"
   ]
  },
  {
   "cell_type": "code",
   "execution_count": null,
   "metadata": {},
   "outputs": [],
   "source": []
  }
 ],
 "metadata": {
  "kernelspec": {
   "display_name": "Python 3",
   "language": "python",
   "name": "python3"
  },
  "language_info": {
   "codemirror_mode": {
    "name": "ipython",
    "version": 3
   },
   "file_extension": ".py",
   "mimetype": "text/x-python",
   "name": "python",
   "nbconvert_exporter": "python",
   "pygments_lexer": "ipython3",
   "version": "3.8.3"
  }
 },
 "nbformat": 4,
 "nbformat_minor": 4
}
